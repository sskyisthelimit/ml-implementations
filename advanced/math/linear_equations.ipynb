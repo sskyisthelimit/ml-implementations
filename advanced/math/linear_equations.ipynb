{
 "cells": [
  {
   "cell_type": "code",
   "execution_count": 15,
   "metadata": {},
   "outputs": [
    {
     "name": "stdout",
     "output_type": "stream",
     "text": [
      "Число обумовленості матриці A: 7.499999999999999\n",
      "Матриця погано обумовлена.\n"
     ]
    }
   ],
   "source": [
    "import numpy as np\n",
    "from scipy.linalg import toeplitz\n",
    "from scipy.sparse.linalg import cg\n",
    "from numpy.linalg import norm, cond\n",
    "\n",
    "A = np.array([ [1, 0.5, 0.25, 0.125, 0.0625],\n",
    "              [0.5, 1, 0.5, 0.25, 0.125],\n",
    "              [0.25, 0.5, 1, 0.5, 0.25],\n",
    "              [0.125, 0.25, 0.5, 1, 0.5],\n",
    "              [0.0625, 0.125, 0.25, 0.5, 1] ])\n",
    "\n",
    "condition_number = cond(A, p=np.inf)\n",
    "print(f\"Число обумовленості матриці A: {condition_number}\")\n",
    "if round(condition_number) > 1:\n",
    "    print(\"Матриця погано обумовлена.\")\n",
    "else:\n",
    "    print(\"Матриця добре обумовлена.\")\n",
    "\n"
   ]
  },
  {
   "cell_type": "code",
   "execution_count": 9,
   "metadata": {},
   "outputs": [
    {
     "name": "stdout",
     "output_type": "stream",
     "text": [
      "Метод спряжених градієнтів зійшовся за 3 ітерацій.\n",
      "Метод релаксації зійшовся за 23 ітерацій.\n",
      "Розв'язок для b1 (метод спряжених градієнтів): [1. 1. 1. 1. 1.]\n",
      "Розв'язок для b1 (метод релаксації): [1. 1. 1. 1. 1.]\n"
     ]
    }
   ],
   "source": [
    "x_real = np.ones(n)\n",
    "b1 = A @ x_real\n",
    "\n",
    "def conjugate_gradient_method(A, b, x0=None, tol=1e-8, max_iter=1000):\n",
    "    n_iters = [0]\n",
    "    def callback(xk):\n",
    "        n_iters[0] += 1\n",
    "    \n",
    "    if x0 is None:\n",
    "        x0 = np.zeros(len(b))\n",
    "    x, info = cg(A, b, x0=x0, rtol=tol, maxiter=max_iter, callback=callback)\n",
    "    if info == 0:\n",
    "        print(f\"Метод спряжених градієнтів зійшовся за {n_iters[0]} ітерацій.\")\n",
    "    else:\n",
    "        print(\"Метод спряжених градієнтів не зійшовся.\")\n",
    "    return x\n",
    "\n",
    "def relaxation_method(A, b, omega=1.25, tol=1e-8, max_iter=1000):\n",
    "    n = len(b)\n",
    "    x = np.zeros(n)\n",
    "    for iteration in range(max_iter):\n",
    "        x_old = x.copy()\n",
    "        for i in range(n):\n",
    "            sigma = sum(A[i, j] * x[j] for j in range(n) if j != i)\n",
    "            x[i] = (1 - omega) * x[i] + (omega / A[i, i]) * (b[i] - sigma)\n",
    "        if norm(x - x_old, ord=np.inf) < tol:\n",
    "            print(f\"Метод релаксації зійшовся за {iteration+1} ітерацій.\")\n",
    "            return x\n",
    "    print(\"Метод релаксації не зійшовся.\")\n",
    "    return x\n",
    "\n",
    "x_cg_b1 = conjugate_gradient_method(A, b1)\n",
    "x_relax_b1 = relaxation_method(A, b1)\n",
    "\n",
    "print(\"Розв'язок для b1 (метод спряжених градієнтів):\", x_cg_b1)\n",
    "print(\"Розв'язок для b1 (метод релаксації):\", x_relax_b1)\n"
   ]
  },
  {
   "cell_type": "code",
   "execution_count": 12,
   "metadata": {},
   "outputs": [
    {
     "name": "stdout",
     "output_type": "stream",
     "text": [
      "Метод спряжених градієнтів зійшовся за 5 ітерацій.\n",
      "Метод релаксації зійшовся за 23 ітерацій.\n",
      "Метод спряжених градієнтів зійшовся за 5 ітерацій.\n",
      "Метод релаксації зійшовся за 23 ітерацій.\n",
      "\n",
      "Порівняння з реальним вектором x:\n",
      "Розв'язок для b1 (спряжені градієнти): [-7.77156117e-16 -4.44089210e-16 -1.11022302e-15 -4.44089210e-16\n",
      " -7.77156117e-16]\n",
      "Розв'язок для b1 (релаксація): [-1.27759137e-09 -2.25455021e-09  1.92982919e-09  3.82401666e-10\n",
      " -2.85376389e-10]\n",
      "Розв'язок для b2 (спряжені градієнти): [-0.00075381  0.00151914 -0.00023413  0.0002397  -0.00136469]\n",
      "Розв'язок для b2 (релаксація): [-0.00075381  0.00151913 -0.00023413  0.0002397  -0.00136469]\n",
      "Розв'язок для b3 (спряжені градієнти): [-3.40123176e-04  1.51656084e-03 -4.38415285e-04 -4.03422411e-05\n",
      " -1.55566155e-03]\n",
      "Розв'язок для b3 (релаксація): [-3.40124455e-04  1.51655859e-03 -4.38413356e-04 -4.03418601e-05\n",
      " -1.55566183e-03]\n",
      "\n",
      "Висновки:\n",
      "Чутливість методів до змін у правій частині (b) показує вплив погано обумовленої матриці A на стабільність розв'язку.\n",
      "Метод спряжених градієнтів може бути менш стійким у порівнянні з методом релаксації для таких некоректних матриць.\n"
     ]
    }
   ],
   "source": [
    "epsilon = 0.001\n",
    "b2 = b1 + epsilon * np.random.randn(n)\n",
    "b3 = b1 - epsilon * np.random.randn(n)\n",
    "\n",
    "x_cg_b2 = conjugate_gradient_method(A, b2)\n",
    "x_relax_b2 = relaxation_method(A, b2)\n",
    "\n",
    "x_cg_b3 = conjugate_gradient_method(A, b3)\n",
    "x_relax_b3 = relaxation_method(A, b3)\n",
    "\n",
    "print(\"\\nПорівняння з реальним вектором x:\")\n",
    "print(\"Розв'язок для b1 (спряжені градієнти):\", x_cg_b1 - x_real)\n",
    "print(\"Розв'язок для b1 (релаксація):\", x_relax_b1 - x_real)\n",
    "\n",
    "print(\"Розв'язок для b2 (спряжені градієнти):\", x_cg_b2 - x_real)\n",
    "print(\"Розв'язок для b2 (релаксація):\", x_relax_b2 - x_real)\n",
    "\n",
    "print(\"Розв'язок для b3 (спряжені градієнти):\", x_cg_b3 - x_real)\n",
    "print(\"Розв'язок для b3 (релаксація):\", x_relax_b3 - x_real)\n",
    "\n",
    "# Висновки\n",
    "print(\"\\nВисновки:\")\n",
    "print(\"Чутливість методів до змін у правій частині (b) показує вплив погано обумовленої матриці A на стабільність розв'язку.\")\n",
    "print(\"Метод спряжених градієнтів може бути менш стійким у порівнянні з методом релаксації для таких некоректних матриць.\")\n"
   ]
  },
  {
   "cell_type": "code",
   "execution_count": null,
   "metadata": {},
   "outputs": [],
   "source": []
  }
 ],
 "metadata": {
  "kernelspec": {
   "display_name": "virt",
   "language": "python",
   "name": "python3"
  },
  "language_info": {
   "codemirror_mode": {
    "name": "ipython",
    "version": 3
   },
   "file_extension": ".py",
   "mimetype": "text/x-python",
   "name": "python",
   "nbconvert_exporter": "python",
   "pygments_lexer": "ipython3",
   "version": "3.11.2"
  }
 },
 "nbformat": 4,
 "nbformat_minor": 2
}
